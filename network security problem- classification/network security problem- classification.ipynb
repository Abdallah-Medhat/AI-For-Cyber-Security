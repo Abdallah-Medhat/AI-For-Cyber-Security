{
 "cells": [
  {
   "cell_type": "code",
   "execution_count": 1,
   "metadata": {
    "id": "8SrIq05WZr3E"
   },
   "outputs": [],
   "source": [
    "import pandas as pd\n",
    "import numpy as np\n",
    "import matplotlib.pyplot as plt\n",
    "from sklearn.model_selection import train_test_split\n",
    "from sklearn.ensemble import RandomForestClassifier\n",
    "from sklearn.metrics import f1_score,make_scorer\n",
    "from sklearn.metrics import accuracy_score\n",
    "from sklearn.tree import DecisionTreeClassifier\n",
    "from catboost import CatBoostClassifier"
   ]
  },
  {
   "cell_type": "code",
   "execution_count": 2,
   "metadata": {
    "colab": {
     "base_uri": "https://localhost:8080/"
    },
    "id": "V6MII3rjatbL",
    "outputId": "1aaaba8f-8372-4227-e6e7-b41567f6383d"
   },
   "outputs": [
    {
     "name": "stderr",
     "output_type": "stream",
     "text": [
      "C:\\Users\\abdo\\anaconda3\\lib\\site-packages\\IPython\\core\\interactiveshell.py:3071: DtypeWarning: Columns (86) have mixed types.Specify dtype option on import or set low_memory=False.\n",
      "  has_raised = await self.run_ast_nodes(code_ast.body, cell_name,\n"
     ]
    }
   ],
   "source": [
    "df_train=pd.read_csv(\"D:/studies/depi/ottawa/second term/ai for cs/ass/traindata.csv\")\n",
    "df_test = pd.read_csv(\"D:/studies/depi/ottawa/second term/ai for cs/ass/testdata.csv\")"
   ]
  },
  {
   "cell_type": "code",
   "execution_count": 3,
   "metadata": {
    "colab": {
     "base_uri": "https://localhost:8080/",
     "height": 852
    },
    "id": "6mNpTgcVatgk",
    "outputId": "dd12b329-d0b3-474f-8476-61a323451490"
   },
   "outputs": [
    {
     "data": {
      "text/html": [
       "<div>\n",
       "<style scoped>\n",
       "    .dataframe tbody tr th:only-of-type {\n",
       "        vertical-align: middle;\n",
       "    }\n",
       "\n",
       "    .dataframe tbody tr th {\n",
       "        vertical-align: top;\n",
       "    }\n",
       "\n",
       "    .dataframe thead th {\n",
       "        text-align: right;\n",
       "    }\n",
       "</style>\n",
       "<table border=\"1\" class=\"dataframe\">\n",
       "  <thead>\n",
       "    <tr style=\"text-align: right;\">\n",
       "      <th></th>\n",
       "      <th>Unnamed: 0</th>\n",
       "      <th>F0</th>\n",
       "      <th>F1</th>\n",
       "      <th>F2</th>\n",
       "      <th>F3</th>\n",
       "      <th>F4</th>\n",
       "      <th>F5</th>\n",
       "      <th>F6</th>\n",
       "      <th>F7</th>\n",
       "      <th>F8</th>\n",
       "      <th>...</th>\n",
       "      <th>F78</th>\n",
       "      <th>F79</th>\n",
       "      <th>F80</th>\n",
       "      <th>F81</th>\n",
       "      <th>F82</th>\n",
       "      <th>F83</th>\n",
       "      <th>F84</th>\n",
       "      <th>F85</th>\n",
       "      <th>F86</th>\n",
       "      <th>Label</th>\n",
       "    </tr>\n",
       "  </thead>\n",
       "  <tbody>\n",
       "    <tr>\n",
       "      <th>0</th>\n",
       "      <td>0</td>\n",
       "      <td>687</td>\n",
       "      <td>172.16.0.5-192.168.50.1-26580-22-6</td>\n",
       "      <td>172.16.0.5</td>\n",
       "      <td>26580</td>\n",
       "      <td>192.168.50.1</td>\n",
       "      <td>22</td>\n",
       "      <td>6</td>\n",
       "      <td>2018-12-01 09:22:09.400341</td>\n",
       "      <td>11435366</td>\n",
       "      <td>...</td>\n",
       "      <td>0.0</td>\n",
       "      <td>0.0</td>\n",
       "      <td>0.0</td>\n",
       "      <td>0.0</td>\n",
       "      <td>0.0</td>\n",
       "      <td>0.0</td>\n",
       "      <td>0.0</td>\n",
       "      <td>0</td>\n",
       "      <td>1.0</td>\n",
       "      <td>0</td>\n",
       "    </tr>\n",
       "    <tr>\n",
       "      <th>1</th>\n",
       "      <td>1</td>\n",
       "      <td>638</td>\n",
       "      <td>192.168.50.7-52.114.77.33-50657-443-6</td>\n",
       "      <td>192.168.50.7</td>\n",
       "      <td>50657</td>\n",
       "      <td>52.114.77.33</td>\n",
       "      <td>443</td>\n",
       "      <td>6</td>\n",
       "      <td>2018-12-01 09:22:09.722697</td>\n",
       "      <td>102387</td>\n",
       "      <td>...</td>\n",
       "      <td>0.0</td>\n",
       "      <td>0.0</td>\n",
       "      <td>0.0</td>\n",
       "      <td>0.0</td>\n",
       "      <td>0.0</td>\n",
       "      <td>0.0</td>\n",
       "      <td>0.0</td>\n",
       "      <td>0</td>\n",
       "      <td>0.0</td>\n",
       "      <td>1</td>\n",
       "    </tr>\n",
       "    <tr>\n",
       "      <th>2</th>\n",
       "      <td>2</td>\n",
       "      <td>9352</td>\n",
       "      <td>192.168.50.7-52.114.77.33-50657-443-6</td>\n",
       "      <td>52.114.77.33</td>\n",
       "      <td>443</td>\n",
       "      <td>192.168.50.7</td>\n",
       "      <td>50657</td>\n",
       "      <td>6</td>\n",
       "      <td>2018-12-01 09:22:09.825086</td>\n",
       "      <td>116</td>\n",
       "      <td>...</td>\n",
       "      <td>0.0</td>\n",
       "      <td>0.0</td>\n",
       "      <td>0.0</td>\n",
       "      <td>0.0</td>\n",
       "      <td>0.0</td>\n",
       "      <td>0.0</td>\n",
       "      <td>0.0</td>\n",
       "      <td>0</td>\n",
       "      <td>1.0</td>\n",
       "      <td>1</td>\n",
       "    </tr>\n",
       "    <tr>\n",
       "      <th>3</th>\n",
       "      <td>3</td>\n",
       "      <td>640</td>\n",
       "      <td>192.168.50.7-74.208.236.171-50572-80-6</td>\n",
       "      <td>74.208.236.171</td>\n",
       "      <td>80</td>\n",
       "      <td>192.168.50.7</td>\n",
       "      <td>50572</td>\n",
       "      <td>6</td>\n",
       "      <td>2018-12-01 09:22:11.029229</td>\n",
       "      <td>141</td>\n",
       "      <td>...</td>\n",
       "      <td>0.0</td>\n",
       "      <td>0.0</td>\n",
       "      <td>0.0</td>\n",
       "      <td>0.0</td>\n",
       "      <td>0.0</td>\n",
       "      <td>0.0</td>\n",
       "      <td>0.0</td>\n",
       "      <td>0</td>\n",
       "      <td>1.0</td>\n",
       "      <td>1</td>\n",
       "    </tr>\n",
       "    <tr>\n",
       "      <th>4</th>\n",
       "      <td>4</td>\n",
       "      <td>7435</td>\n",
       "      <td>192.168.50.7-74.208.236.171-50572-80-6</td>\n",
       "      <td>192.168.50.7</td>\n",
       "      <td>50572</td>\n",
       "      <td>74.208.236.171</td>\n",
       "      <td>80</td>\n",
       "      <td>6</td>\n",
       "      <td>2018-12-01 09:22:11.029380</td>\n",
       "      <td>54918</td>\n",
       "      <td>...</td>\n",
       "      <td>0.0</td>\n",
       "      <td>0.0</td>\n",
       "      <td>0.0</td>\n",
       "      <td>0.0</td>\n",
       "      <td>0.0</td>\n",
       "      <td>0.0</td>\n",
       "      <td>0.0</td>\n",
       "      <td>0</td>\n",
       "      <td>0.0</td>\n",
       "      <td>1</td>\n",
       "    </tr>\n",
       "    <tr>\n",
       "      <th>...</th>\n",
       "      <td>...</td>\n",
       "      <td>...</td>\n",
       "      <td>...</td>\n",
       "      <td>...</td>\n",
       "      <td>...</td>\n",
       "      <td>...</td>\n",
       "      <td>...</td>\n",
       "      <td>...</td>\n",
       "      <td>...</td>\n",
       "      <td>...</td>\n",
       "      <td>...</td>\n",
       "      <td>...</td>\n",
       "      <td>...</td>\n",
       "      <td>...</td>\n",
       "      <td>...</td>\n",
       "      <td>...</td>\n",
       "      <td>...</td>\n",
       "      <td>...</td>\n",
       "      <td>...</td>\n",
       "      <td>...</td>\n",
       "      <td>...</td>\n",
       "    </tr>\n",
       "    <tr>\n",
       "      <th>136406</th>\n",
       "      <td>136406</td>\n",
       "      <td>178379</td>\n",
       "      <td>172.16.0.5-192.168.50.1-648-55755-17</td>\n",
       "      <td>172.16.0.5</td>\n",
       "      <td>648</td>\n",
       "      <td>192.168.50.1</td>\n",
       "      <td>55755</td>\n",
       "      <td>17</td>\n",
       "      <td>2018-12-01 12:00:16.082867</td>\n",
       "      <td>2</td>\n",
       "      <td>...</td>\n",
       "      <td>0.0</td>\n",
       "      <td>0.0</td>\n",
       "      <td>0.0</td>\n",
       "      <td>0.0</td>\n",
       "      <td>0.0</td>\n",
       "      <td>0.0</td>\n",
       "      <td>0.0</td>\n",
       "      <td>0</td>\n",
       "      <td>1.0</td>\n",
       "      <td>0</td>\n",
       "    </tr>\n",
       "    <tr>\n",
       "      <th>136407</th>\n",
       "      <td>136407</td>\n",
       "      <td>200065</td>\n",
       "      <td>172.16.0.5-192.168.50.1-592-17197-17</td>\n",
       "      <td>172.16.0.5</td>\n",
       "      <td>592</td>\n",
       "      <td>192.168.50.1</td>\n",
       "      <td>17197</td>\n",
       "      <td>17</td>\n",
       "      <td>2018-12-01 12:00:16.082955</td>\n",
       "      <td>1</td>\n",
       "      <td>...</td>\n",
       "      <td>0.0</td>\n",
       "      <td>0.0</td>\n",
       "      <td>0.0</td>\n",
       "      <td>0.0</td>\n",
       "      <td>0.0</td>\n",
       "      <td>0.0</td>\n",
       "      <td>0.0</td>\n",
       "      <td>0</td>\n",
       "      <td>1.0</td>\n",
       "      <td>0</td>\n",
       "    </tr>\n",
       "    <tr>\n",
       "      <th>136408</th>\n",
       "      <td>136408</td>\n",
       "      <td>229189</td>\n",
       "      <td>172.16.0.5-192.168.50.1-593-39092-17</td>\n",
       "      <td>172.16.0.5</td>\n",
       "      <td>593</td>\n",
       "      <td>192.168.50.1</td>\n",
       "      <td>39092</td>\n",
       "      <td>17</td>\n",
       "      <td>2018-12-01 12:00:16.082957</td>\n",
       "      <td>47</td>\n",
       "      <td>...</td>\n",
       "      <td>0.0</td>\n",
       "      <td>0.0</td>\n",
       "      <td>0.0</td>\n",
       "      <td>0.0</td>\n",
       "      <td>0.0</td>\n",
       "      <td>0.0</td>\n",
       "      <td>0.0</td>\n",
       "      <td>0</td>\n",
       "      <td>1.0</td>\n",
       "      <td>0</td>\n",
       "    </tr>\n",
       "    <tr>\n",
       "      <th>136409</th>\n",
       "      <td>136409</td>\n",
       "      <td>232005</td>\n",
       "      <td>172.16.0.5-192.168.50.1-594-61362-17</td>\n",
       "      <td>172.16.0.5</td>\n",
       "      <td>594</td>\n",
       "      <td>192.168.50.1</td>\n",
       "      <td>61362</td>\n",
       "      <td>17</td>\n",
       "      <td>2018-12-01 12:00:16.083005</td>\n",
       "      <td>1</td>\n",
       "      <td>...</td>\n",
       "      <td>0.0</td>\n",
       "      <td>0.0</td>\n",
       "      <td>0.0</td>\n",
       "      <td>0.0</td>\n",
       "      <td>0.0</td>\n",
       "      <td>0.0</td>\n",
       "      <td>0.0</td>\n",
       "      <td>0</td>\n",
       "      <td>1.0</td>\n",
       "      <td>0</td>\n",
       "    </tr>\n",
       "    <tr>\n",
       "      <th>136410</th>\n",
       "      <td>136410</td>\n",
       "      <td>78981</td>\n",
       "      <td>172.16.0.5-192.168.50.1-648-23724-17</td>\n",
       "      <td>172.16.0.5</td>\n",
       "      <td>648</td>\n",
       "      <td>192.168.50.1</td>\n",
       "      <td>23724</td>\n",
       "      <td>17</td>\n",
       "      <td>2018-12-01 12:00:16.083054</td>\n",
       "      <td>50</td>\n",
       "      <td>...</td>\n",
       "      <td>0.0</td>\n",
       "      <td>0.0</td>\n",
       "      <td>0.0</td>\n",
       "      <td>0.0</td>\n",
       "      <td>0.0</td>\n",
       "      <td>0.0</td>\n",
       "      <td>0.0</td>\n",
       "      <td>0</td>\n",
       "      <td>1.0</td>\n",
       "      <td>0</td>\n",
       "    </tr>\n",
       "  </tbody>\n",
       "</table>\n",
       "<p>136411 rows × 89 columns</p>\n",
       "</div>"
      ],
      "text/plain": [
       "        Unnamed: 0      F0                                      F1  \\\n",
       "0                0     687      172.16.0.5-192.168.50.1-26580-22-6   \n",
       "1                1     638   192.168.50.7-52.114.77.33-50657-443-6   \n",
       "2                2    9352   192.168.50.7-52.114.77.33-50657-443-6   \n",
       "3                3     640  192.168.50.7-74.208.236.171-50572-80-6   \n",
       "4                4    7435  192.168.50.7-74.208.236.171-50572-80-6   \n",
       "...            ...     ...                                     ...   \n",
       "136406      136406  178379    172.16.0.5-192.168.50.1-648-55755-17   \n",
       "136407      136407  200065    172.16.0.5-192.168.50.1-592-17197-17   \n",
       "136408      136408  229189    172.16.0.5-192.168.50.1-593-39092-17   \n",
       "136409      136409  232005    172.16.0.5-192.168.50.1-594-61362-17   \n",
       "136410      136410   78981    172.16.0.5-192.168.50.1-648-23724-17   \n",
       "\n",
       "                    F2     F3              F4     F5  F6  \\\n",
       "0           172.16.0.5  26580    192.168.50.1     22   6   \n",
       "1         192.168.50.7  50657    52.114.77.33    443   6   \n",
       "2         52.114.77.33    443    192.168.50.7  50657   6   \n",
       "3       74.208.236.171     80    192.168.50.7  50572   6   \n",
       "4         192.168.50.7  50572  74.208.236.171     80   6   \n",
       "...                ...    ...             ...    ...  ..   \n",
       "136406      172.16.0.5    648    192.168.50.1  55755  17   \n",
       "136407      172.16.0.5    592    192.168.50.1  17197  17   \n",
       "136408      172.16.0.5    593    192.168.50.1  39092  17   \n",
       "136409      172.16.0.5    594    192.168.50.1  61362  17   \n",
       "136410      172.16.0.5    648    192.168.50.1  23724  17   \n",
       "\n",
       "                                F7        F8  ...  F78  F79  F80  F81  F82  \\\n",
       "0       2018-12-01 09:22:09.400341  11435366  ...  0.0  0.0  0.0  0.0  0.0   \n",
       "1       2018-12-01 09:22:09.722697    102387  ...  0.0  0.0  0.0  0.0  0.0   \n",
       "2       2018-12-01 09:22:09.825086       116  ...  0.0  0.0  0.0  0.0  0.0   \n",
       "3       2018-12-01 09:22:11.029229       141  ...  0.0  0.0  0.0  0.0  0.0   \n",
       "4       2018-12-01 09:22:11.029380     54918  ...  0.0  0.0  0.0  0.0  0.0   \n",
       "...                            ...       ...  ...  ...  ...  ...  ...  ...   \n",
       "136406  2018-12-01 12:00:16.082867         2  ...  0.0  0.0  0.0  0.0  0.0   \n",
       "136407  2018-12-01 12:00:16.082955         1  ...  0.0  0.0  0.0  0.0  0.0   \n",
       "136408  2018-12-01 12:00:16.082957        47  ...  0.0  0.0  0.0  0.0  0.0   \n",
       "136409  2018-12-01 12:00:16.083005         1  ...  0.0  0.0  0.0  0.0  0.0   \n",
       "136410  2018-12-01 12:00:16.083054        50  ...  0.0  0.0  0.0  0.0  0.0   \n",
       "\n",
       "        F83  F84  F85  F86  Label  \n",
       "0       0.0  0.0    0  1.0      0  \n",
       "1       0.0  0.0    0  0.0      1  \n",
       "2       0.0  0.0    0  1.0      1  \n",
       "3       0.0  0.0    0  1.0      1  \n",
       "4       0.0  0.0    0  0.0      1  \n",
       "...     ...  ...  ...  ...    ...  \n",
       "136406  0.0  0.0    0  1.0      0  \n",
       "136407  0.0  0.0    0  1.0      0  \n",
       "136408  0.0  0.0    0  1.0      0  \n",
       "136409  0.0  0.0    0  1.0      0  \n",
       "136410  0.0  0.0    0  1.0      0  \n",
       "\n",
       "[136411 rows x 89 columns]"
      ]
     },
     "execution_count": 3,
     "metadata": {},
     "output_type": "execute_result"
    }
   ],
   "source": [
    "#show the training data\n",
    "df_train"
   ]
  },
  {
   "cell_type": "code",
   "execution_count": 4,
   "metadata": {
    "colab": {
     "base_uri": "https://localhost:8080/"
    },
    "id": "5YrWCQTVlQVf",
    "outputId": "0451c283-9f95-434e-c14d-ddcb75d79067"
   },
   "outputs": [
    {
     "name": "stdout",
     "output_type": "stream",
     "text": [
      "<class 'pandas.core.frame.DataFrame'>\n",
      "RangeIndex: 136411 entries, 0 to 136410\n",
      "Data columns (total 89 columns):\n",
      " #   Column      Non-Null Count   Dtype  \n",
      "---  ------      --------------   -----  \n",
      " 0   Unnamed: 0  136411 non-null  int64  \n",
      " 1   F0          136411 non-null  int64  \n",
      " 2   F1          136411 non-null  object \n",
      " 3   F2          136411 non-null  object \n",
      " 4   F3          136411 non-null  int64  \n",
      " 5   F4          136411 non-null  object \n",
      " 6   F5          136411 non-null  int64  \n",
      " 7   F6          136411 non-null  int64  \n",
      " 8   F7          136411 non-null  object \n",
      " 9   F8          136411 non-null  int64  \n",
      " 10  F9          136411 non-null  int64  \n",
      " 11  F10         136411 non-null  int64  \n",
      " 12  F11         136411 non-null  float64\n",
      " 13  F12         136411 non-null  float64\n",
      " 14  F13         136411 non-null  float64\n",
      " 15  F14         136411 non-null  float64\n",
      " 16  F15         136411 non-null  float64\n",
      " 17  F16         136411 non-null  float64\n",
      " 18  F17         136411 non-null  float64\n",
      " 19  F18         136411 non-null  float64\n",
      " 20  F19         136411 non-null  float64\n",
      " 21  F20         136411 non-null  float64\n",
      " 22  F21         133241 non-null  float64\n",
      " 23  F22         136411 non-null  float64\n",
      " 24  F23         136411 non-null  float64\n",
      " 25  F24         136411 non-null  float64\n",
      " 26  F25         136411 non-null  float64\n",
      " 27  F26         136411 non-null  float64\n",
      " 28  F27         136411 non-null  float64\n",
      " 29  F28         136411 non-null  float64\n",
      " 30  F29         136411 non-null  float64\n",
      " 31  F30         136411 non-null  float64\n",
      " 32  F31         136411 non-null  float64\n",
      " 33  F32         136411 non-null  float64\n",
      " 34  F33         136411 non-null  float64\n",
      " 35  F34         136411 non-null  float64\n",
      " 36  F35         136411 non-null  float64\n",
      " 37  F36         136411 non-null  float64\n",
      " 38  F37         136411 non-null  int64  \n",
      " 39  F38         136411 non-null  int64  \n",
      " 40  F39         136411 non-null  int64  \n",
      " 41  F40         136411 non-null  int64  \n",
      " 42  F41         136411 non-null  int64  \n",
      " 43  F42         136411 non-null  int64  \n",
      " 44  F43         136410 non-null  float64\n",
      " 45  F44         136410 non-null  float64\n",
      " 46  F45         136410 non-null  float64\n",
      " 47  F46         136410 non-null  float64\n",
      " 48  F47         136410 non-null  float64\n",
      " 49  F48         136410 non-null  float64\n",
      " 50  F49         136410 non-null  float64\n",
      " 51  F50         136410 non-null  float64\n",
      " 52  F51         136410 non-null  float64\n",
      " 53  F52         136410 non-null  float64\n",
      " 54  F53         136410 non-null  float64\n",
      " 55  F54         136410 non-null  float64\n",
      " 56  F55         136410 non-null  float64\n",
      " 57  F56         136410 non-null  float64\n",
      " 58  F57         136410 non-null  float64\n",
      " 59  F58         136410 non-null  float64\n",
      " 60  F59         136410 non-null  float64\n",
      " 61  F60         136410 non-null  float64\n",
      " 62  F61         136410 non-null  float64\n",
      " 63  F62         136410 non-null  float64\n",
      " 64  F63         136410 non-null  float64\n",
      " 65  F64         136410 non-null  float64\n",
      " 66  F65         136410 non-null  float64\n",
      " 67  F66         136410 non-null  float64\n",
      " 68  F67         136410 non-null  float64\n",
      " 69  F68         136410 non-null  float64\n",
      " 70  F69         136410 non-null  float64\n",
      " 71  F70         136410 non-null  float64\n",
      " 72  F71         136410 non-null  float64\n",
      " 73  F72         136410 non-null  float64\n",
      " 74  F73         136410 non-null  float64\n",
      " 75  F74         136410 non-null  float64\n",
      " 76  F75         136410 non-null  float64\n",
      " 77  F76         136410 non-null  float64\n",
      " 78  F77         136410 non-null  float64\n",
      " 79  F78         136410 non-null  float64\n",
      " 80  F79         136410 non-null  float64\n",
      " 81  F80         136410 non-null  float64\n",
      " 82  F81         136410 non-null  float64\n",
      " 83  F82         136410 non-null  float64\n",
      " 84  F83         136410 non-null  float64\n",
      " 85  F84         136410 non-null  float64\n",
      " 86  F85         136410 non-null  object \n",
      " 87  F86         136410 non-null  float64\n",
      " 88  Label       136411 non-null  int64  \n",
      "dtypes: float64(69), int64(15), object(5)\n",
      "memory usage: 92.6+ MB\n"
     ]
    }
   ],
   "source": [
    "#getting info about training data\n",
    "df_train.info()"
   ]
  },
  {
   "cell_type": "code",
   "execution_count": 5,
   "metadata": {},
   "outputs": [
    {
     "data": {
      "text/html": [
       "<div>\n",
       "<style scoped>\n",
       "    .dataframe tbody tr th:only-of-type {\n",
       "        vertical-align: middle;\n",
       "    }\n",
       "\n",
       "    .dataframe tbody tr th {\n",
       "        vertical-align: top;\n",
       "    }\n",
       "\n",
       "    .dataframe thead th {\n",
       "        text-align: right;\n",
       "    }\n",
       "</style>\n",
       "<table border=\"1\" class=\"dataframe\">\n",
       "  <thead>\n",
       "    <tr style=\"text-align: right;\">\n",
       "      <th></th>\n",
       "      <th>Unnamed: 0</th>\n",
       "      <th>F0</th>\n",
       "      <th>F1</th>\n",
       "      <th>F2</th>\n",
       "      <th>F3</th>\n",
       "      <th>F4</th>\n",
       "      <th>F5</th>\n",
       "      <th>F6</th>\n",
       "      <th>F7</th>\n",
       "      <th>F8</th>\n",
       "      <th>...</th>\n",
       "      <th>F77</th>\n",
       "      <th>F78</th>\n",
       "      <th>F79</th>\n",
       "      <th>F80</th>\n",
       "      <th>F81</th>\n",
       "      <th>F82</th>\n",
       "      <th>F83</th>\n",
       "      <th>F84</th>\n",
       "      <th>F85</th>\n",
       "      <th>F86</th>\n",
       "    </tr>\n",
       "  </thead>\n",
       "  <tbody>\n",
       "    <tr>\n",
       "      <th>0</th>\n",
       "      <td>0</td>\n",
       "      <td>454136</td>\n",
       "      <td>172.16.0.5-192.168.50.4-5967-5967-6</td>\n",
       "      <td>172.16.0.5</td>\n",
       "      <td>5967</td>\n",
       "      <td>192.168.50.4</td>\n",
       "      <td>5967</td>\n",
       "      <td>6</td>\n",
       "      <td>2018-11-03 11:36:30.225322</td>\n",
       "      <td>38928087</td>\n",
       "      <td>...</td>\n",
       "      <td>64.500000</td>\n",
       "      <td>89.802561</td>\n",
       "      <td>128.0</td>\n",
       "      <td>1.0</td>\n",
       "      <td>1.297599e+07</td>\n",
       "      <td>2.360014e+06</td>\n",
       "      <td>15371769.0</td>\n",
       "      <td>10653446.0</td>\n",
       "      <td>0</td>\n",
       "      <td>1</td>\n",
       "    </tr>\n",
       "    <tr>\n",
       "      <th>1</th>\n",
       "      <td>1</td>\n",
       "      <td>334585</td>\n",
       "      <td>172.16.0.5-192.168.50.4-48161-46578-6</td>\n",
       "      <td>172.16.0.5</td>\n",
       "      <td>48161</td>\n",
       "      <td>192.168.50.4</td>\n",
       "      <td>46578</td>\n",
       "      <td>6</td>\n",
       "      <td>2018-11-03 11:36:30.225525</td>\n",
       "      <td>105</td>\n",
       "      <td>...</td>\n",
       "      <td>0.000000</td>\n",
       "      <td>0.000000</td>\n",
       "      <td>0.0</td>\n",
       "      <td>0.0</td>\n",
       "      <td>0.000000e+00</td>\n",
       "      <td>0.000000e+00</td>\n",
       "      <td>0.0</td>\n",
       "      <td>0.0</td>\n",
       "      <td>0</td>\n",
       "      <td>1</td>\n",
       "    </tr>\n",
       "    <tr>\n",
       "      <th>2</th>\n",
       "      <td>2</td>\n",
       "      <td>246617</td>\n",
       "      <td>172.16.0.5-192.168.50.4-22804-22804-6</td>\n",
       "      <td>172.16.0.5</td>\n",
       "      <td>22804</td>\n",
       "      <td>192.168.50.4</td>\n",
       "      <td>22804</td>\n",
       "      <td>6</td>\n",
       "      <td>2018-11-03 11:36:30.225526</td>\n",
       "      <td>24368284</td>\n",
       "      <td>...</td>\n",
       "      <td>90.000000</td>\n",
       "      <td>25.119713</td>\n",
       "      <td>105.0</td>\n",
       "      <td>61.0</td>\n",
       "      <td>8.122671e+06</td>\n",
       "      <td>2.862532e+06</td>\n",
       "      <td>10832964.0</td>\n",
       "      <td>5128982.0</td>\n",
       "      <td>0</td>\n",
       "      <td>1</td>\n",
       "    </tr>\n",
       "    <tr>\n",
       "      <th>3</th>\n",
       "      <td>3</td>\n",
       "      <td>43667</td>\n",
       "      <td>172.16.0.5-192.168.50.4-48162-43438-6</td>\n",
       "      <td>172.16.0.5</td>\n",
       "      <td>48162</td>\n",
       "      <td>192.168.50.4</td>\n",
       "      <td>43438</td>\n",
       "      <td>6</td>\n",
       "      <td>2018-11-03 11:36:30.225576</td>\n",
       "      <td>104</td>\n",
       "      <td>...</td>\n",
       "      <td>0.000000</td>\n",
       "      <td>0.000000</td>\n",
       "      <td>0.0</td>\n",
       "      <td>0.0</td>\n",
       "      <td>0.000000e+00</td>\n",
       "      <td>0.000000e+00</td>\n",
       "      <td>0.0</td>\n",
       "      <td>0.0</td>\n",
       "      <td>0</td>\n",
       "      <td>1</td>\n",
       "    </tr>\n",
       "    <tr>\n",
       "      <th>4</th>\n",
       "      <td>4</td>\n",
       "      <td>84587</td>\n",
       "      <td>172.16.0.5-192.168.50.4-61803-61803-6</td>\n",
       "      <td>172.16.0.5</td>\n",
       "      <td>61803</td>\n",
       "      <td>192.168.50.4</td>\n",
       "      <td>61803</td>\n",
       "      <td>6</td>\n",
       "      <td>2018-11-03 11:36:30.225633</td>\n",
       "      <td>42848358</td>\n",
       "      <td>...</td>\n",
       "      <td>30.333333</td>\n",
       "      <td>25.403412</td>\n",
       "      <td>45.0</td>\n",
       "      <td>1.0</td>\n",
       "      <td>1.428272e+07</td>\n",
       "      <td>8.454236e+05</td>\n",
       "      <td>14853735.0</td>\n",
       "      <td>13311501.0</td>\n",
       "      <td>0</td>\n",
       "      <td>1</td>\n",
       "    </tr>\n",
       "    <tr>\n",
       "      <th>...</th>\n",
       "      <td>...</td>\n",
       "      <td>...</td>\n",
       "      <td>...</td>\n",
       "      <td>...</td>\n",
       "      <td>...</td>\n",
       "      <td>...</td>\n",
       "      <td>...</td>\n",
       "      <td>...</td>\n",
       "      <td>...</td>\n",
       "      <td>...</td>\n",
       "      <td>...</td>\n",
       "      <td>...</td>\n",
       "      <td>...</td>\n",
       "      <td>...</td>\n",
       "      <td>...</td>\n",
       "      <td>...</td>\n",
       "      <td>...</td>\n",
       "      <td>...</td>\n",
       "      <td>...</td>\n",
       "      <td>...</td>\n",
       "      <td>...</td>\n",
       "    </tr>\n",
       "    <tr>\n",
       "      <th>101495</th>\n",
       "      <td>101495</td>\n",
       "      <td>289413</td>\n",
       "      <td>172.16.0.5-192.168.50.4-939-49424-17</td>\n",
       "      <td>172.16.0.5</td>\n",
       "      <td>939</td>\n",
       "      <td>192.168.50.4</td>\n",
       "      <td>49424</td>\n",
       "      <td>17</td>\n",
       "      <td>2018-11-03 10:01:53.446963</td>\n",
       "      <td>1</td>\n",
       "      <td>...</td>\n",
       "      <td>0.000000</td>\n",
       "      <td>0.000000</td>\n",
       "      <td>0.0</td>\n",
       "      <td>0.0</td>\n",
       "      <td>0.000000e+00</td>\n",
       "      <td>0.000000e+00</td>\n",
       "      <td>0.0</td>\n",
       "      <td>0.0</td>\n",
       "      <td>0</td>\n",
       "      <td>1</td>\n",
       "    </tr>\n",
       "    <tr>\n",
       "      <th>101496</th>\n",
       "      <td>101496</td>\n",
       "      <td>278637</td>\n",
       "      <td>172.16.0.5-192.168.50.4-940-29915-17</td>\n",
       "      <td>172.16.0.5</td>\n",
       "      <td>940</td>\n",
       "      <td>192.168.50.4</td>\n",
       "      <td>29915</td>\n",
       "      <td>17</td>\n",
       "      <td>2018-11-03 10:01:53.447215</td>\n",
       "      <td>1</td>\n",
       "      <td>...</td>\n",
       "      <td>0.000000</td>\n",
       "      <td>0.000000</td>\n",
       "      <td>0.0</td>\n",
       "      <td>0.0</td>\n",
       "      <td>0.000000e+00</td>\n",
       "      <td>0.000000e+00</td>\n",
       "      <td>0.0</td>\n",
       "      <td>0.0</td>\n",
       "      <td>0</td>\n",
       "      <td>1</td>\n",
       "    </tr>\n",
       "    <tr>\n",
       "      <th>101497</th>\n",
       "      <td>101497</td>\n",
       "      <td>274304</td>\n",
       "      <td>172.16.0.5-192.168.50.4-941-37022-17</td>\n",
       "      <td>172.16.0.5</td>\n",
       "      <td>941</td>\n",
       "      <td>192.168.50.4</td>\n",
       "      <td>37022</td>\n",
       "      <td>17</td>\n",
       "      <td>2018-11-03 10:01:53.447269</td>\n",
       "      <td>1</td>\n",
       "      <td>...</td>\n",
       "      <td>0.000000</td>\n",
       "      <td>0.000000</td>\n",
       "      <td>0.0</td>\n",
       "      <td>0.0</td>\n",
       "      <td>0.000000e+00</td>\n",
       "      <td>0.000000e+00</td>\n",
       "      <td>0.0</td>\n",
       "      <td>0.0</td>\n",
       "      <td>0</td>\n",
       "      <td>1</td>\n",
       "    </tr>\n",
       "    <tr>\n",
       "      <th>101498</th>\n",
       "      <td>101498</td>\n",
       "      <td>47597</td>\n",
       "      <td>172.16.0.5-192.168.50.4-648-53135-17</td>\n",
       "      <td>172.16.0.5</td>\n",
       "      <td>648</td>\n",
       "      <td>192.168.50.4</td>\n",
       "      <td>53135</td>\n",
       "      <td>17</td>\n",
       "      <td>2018-11-03 10:01:53.447271</td>\n",
       "      <td>48</td>\n",
       "      <td>...</td>\n",
       "      <td>0.000000</td>\n",
       "      <td>0.000000</td>\n",
       "      <td>0.0</td>\n",
       "      <td>0.0</td>\n",
       "      <td>0.000000e+00</td>\n",
       "      <td>0.000000e+00</td>\n",
       "      <td>0.0</td>\n",
       "      <td>0.0</td>\n",
       "      <td>0</td>\n",
       "      <td>1</td>\n",
       "    </tr>\n",
       "    <tr>\n",
       "      <th>101499</th>\n",
       "      <td>101499</td>\n",
       "      <td>32127</td>\n",
       "      <td>172.16.0.5-192.168.50.4-942-57323-17</td>\n",
       "      <td>172.16.0.5</td>\n",
       "      <td>942</td>\n",
       "      <td>192.168.50.4</td>\n",
       "      <td>57323</td>\n",
       "      <td>17</td>\n",
       "      <td>2018-11-03 10:01:53.447734</td>\n",
       "      <td>1</td>\n",
       "      <td>...</td>\n",
       "      <td>0.000000</td>\n",
       "      <td>0.000000</td>\n",
       "      <td>0.0</td>\n",
       "      <td>0.0</td>\n",
       "      <td>0.000000e+00</td>\n",
       "      <td>0.000000e+00</td>\n",
       "      <td>0.0</td>\n",
       "      <td>0.0</td>\n",
       "      <td>0</td>\n",
       "      <td>1</td>\n",
       "    </tr>\n",
       "  </tbody>\n",
       "</table>\n",
       "<p>101500 rows × 88 columns</p>\n",
       "</div>"
      ],
      "text/plain": [
       "        Unnamed: 0      F0                                     F1          F2  \\\n",
       "0                0  454136    172.16.0.5-192.168.50.4-5967-5967-6  172.16.0.5   \n",
       "1                1  334585  172.16.0.5-192.168.50.4-48161-46578-6  172.16.0.5   \n",
       "2                2  246617  172.16.0.5-192.168.50.4-22804-22804-6  172.16.0.5   \n",
       "3                3   43667  172.16.0.5-192.168.50.4-48162-43438-6  172.16.0.5   \n",
       "4                4   84587  172.16.0.5-192.168.50.4-61803-61803-6  172.16.0.5   \n",
       "...            ...     ...                                    ...         ...   \n",
       "101495      101495  289413   172.16.0.5-192.168.50.4-939-49424-17  172.16.0.5   \n",
       "101496      101496  278637   172.16.0.5-192.168.50.4-940-29915-17  172.16.0.5   \n",
       "101497      101497  274304   172.16.0.5-192.168.50.4-941-37022-17  172.16.0.5   \n",
       "101498      101498   47597   172.16.0.5-192.168.50.4-648-53135-17  172.16.0.5   \n",
       "101499      101499   32127   172.16.0.5-192.168.50.4-942-57323-17  172.16.0.5   \n",
       "\n",
       "           F3            F4     F5  F6                          F7        F8  \\\n",
       "0        5967  192.168.50.4   5967   6  2018-11-03 11:36:30.225322  38928087   \n",
       "1       48161  192.168.50.4  46578   6  2018-11-03 11:36:30.225525       105   \n",
       "2       22804  192.168.50.4  22804   6  2018-11-03 11:36:30.225526  24368284   \n",
       "3       48162  192.168.50.4  43438   6  2018-11-03 11:36:30.225576       104   \n",
       "4       61803  192.168.50.4  61803   6  2018-11-03 11:36:30.225633  42848358   \n",
       "...       ...           ...    ...  ..                         ...       ...   \n",
       "101495    939  192.168.50.4  49424  17  2018-11-03 10:01:53.446963         1   \n",
       "101496    940  192.168.50.4  29915  17  2018-11-03 10:01:53.447215         1   \n",
       "101497    941  192.168.50.4  37022  17  2018-11-03 10:01:53.447269         1   \n",
       "101498    648  192.168.50.4  53135  17  2018-11-03 10:01:53.447271        48   \n",
       "101499    942  192.168.50.4  57323  17  2018-11-03 10:01:53.447734         1   \n",
       "\n",
       "        ...        F77        F78    F79   F80           F81           F82  \\\n",
       "0       ...  64.500000  89.802561  128.0   1.0  1.297599e+07  2.360014e+06   \n",
       "1       ...   0.000000   0.000000    0.0   0.0  0.000000e+00  0.000000e+00   \n",
       "2       ...  90.000000  25.119713  105.0  61.0  8.122671e+06  2.862532e+06   \n",
       "3       ...   0.000000   0.000000    0.0   0.0  0.000000e+00  0.000000e+00   \n",
       "4       ...  30.333333  25.403412   45.0   1.0  1.428272e+07  8.454236e+05   \n",
       "...     ...        ...        ...    ...   ...           ...           ...   \n",
       "101495  ...   0.000000   0.000000    0.0   0.0  0.000000e+00  0.000000e+00   \n",
       "101496  ...   0.000000   0.000000    0.0   0.0  0.000000e+00  0.000000e+00   \n",
       "101497  ...   0.000000   0.000000    0.0   0.0  0.000000e+00  0.000000e+00   \n",
       "101498  ...   0.000000   0.000000    0.0   0.0  0.000000e+00  0.000000e+00   \n",
       "101499  ...   0.000000   0.000000    0.0   0.0  0.000000e+00  0.000000e+00   \n",
       "\n",
       "               F83         F84  F85  F86  \n",
       "0       15371769.0  10653446.0    0    1  \n",
       "1              0.0         0.0    0    1  \n",
       "2       10832964.0   5128982.0    0    1  \n",
       "3              0.0         0.0    0    1  \n",
       "4       14853735.0  13311501.0    0    1  \n",
       "...            ...         ...  ...  ...  \n",
       "101495         0.0         0.0    0    1  \n",
       "101496         0.0         0.0    0    1  \n",
       "101497         0.0         0.0    0    1  \n",
       "101498         0.0         0.0    0    1  \n",
       "101499         0.0         0.0    0    1  \n",
       "\n",
       "[101500 rows x 88 columns]"
      ]
     },
     "execution_count": 5,
     "metadata": {},
     "output_type": "execute_result"
    }
   ],
   "source": [
    "#show the testing data\n",
    "df_test"
   ]
  },
  {
   "cell_type": "code",
   "execution_count": 6,
   "metadata": {},
   "outputs": [
    {
     "name": "stdout",
     "output_type": "stream",
     "text": [
      "<class 'pandas.core.frame.DataFrame'>\n",
      "RangeIndex: 101500 entries, 0 to 101499\n",
      "Data columns (total 88 columns):\n",
      " #   Column      Non-Null Count   Dtype  \n",
      "---  ------      --------------   -----  \n",
      " 0   Unnamed: 0  101500 non-null  int64  \n",
      " 1   F0          101500 non-null  int64  \n",
      " 2   F1          101500 non-null  object \n",
      " 3   F2          101500 non-null  object \n",
      " 4   F3          101500 non-null  int64  \n",
      " 5   F4          101500 non-null  object \n",
      " 6   F5          101500 non-null  int64  \n",
      " 7   F6          101500 non-null  int64  \n",
      " 8   F7          101500 non-null  object \n",
      " 9   F8          101500 non-null  int64  \n",
      " 10  F9          101500 non-null  int64  \n",
      " 11  F10         101500 non-null  int64  \n",
      " 12  F11         101500 non-null  float64\n",
      " 13  F12         101500 non-null  float64\n",
      " 14  F13         101500 non-null  float64\n",
      " 15  F14         101500 non-null  float64\n",
      " 16  F15         101500 non-null  float64\n",
      " 17  F16         101500 non-null  float64\n",
      " 18  F17         101500 non-null  float64\n",
      " 19  F18         101500 non-null  float64\n",
      " 20  F19         101500 non-null  float64\n",
      " 21  F20         101500 non-null  float64\n",
      " 22  F21         101499 non-null  float64\n",
      " 23  F22         101500 non-null  float64\n",
      " 24  F23         101500 non-null  float64\n",
      " 25  F24         101500 non-null  float64\n",
      " 26  F25         101500 non-null  float64\n",
      " 27  F26         101500 non-null  float64\n",
      " 28  F27         101500 non-null  float64\n",
      " 29  F28         101500 non-null  float64\n",
      " 30  F29         101500 non-null  float64\n",
      " 31  F30         101500 non-null  float64\n",
      " 32  F31         101500 non-null  float64\n",
      " 33  F32         101500 non-null  float64\n",
      " 34  F33         101500 non-null  float64\n",
      " 35  F34         101500 non-null  float64\n",
      " 36  F35         101500 non-null  float64\n",
      " 37  F36         101500 non-null  float64\n",
      " 38  F37         101500 non-null  int64  \n",
      " 39  F38         101500 non-null  int64  \n",
      " 40  F39         101500 non-null  int64  \n",
      " 41  F40         101500 non-null  int64  \n",
      " 42  F41         101500 non-null  int64  \n",
      " 43  F42         101500 non-null  int64  \n",
      " 44  F43         101500 non-null  float64\n",
      " 45  F44         101500 non-null  float64\n",
      " 46  F45         101500 non-null  float64\n",
      " 47  F46         101500 non-null  float64\n",
      " 48  F47         101500 non-null  float64\n",
      " 49  F48         101500 non-null  float64\n",
      " 50  F49         101500 non-null  float64\n",
      " 51  F50         101500 non-null  int64  \n",
      " 52  F51         101500 non-null  int64  \n",
      " 53  F52         101500 non-null  int64  \n",
      " 54  F53         101500 non-null  int64  \n",
      " 55  F54         101500 non-null  int64  \n",
      " 56  F55         101500 non-null  int64  \n",
      " 57  F56         101500 non-null  int64  \n",
      " 58  F57         101500 non-null  int64  \n",
      " 59  F58         101500 non-null  float64\n",
      " 60  F59         101500 non-null  float64\n",
      " 61  F60         101500 non-null  float64\n",
      " 62  F61         101500 non-null  float64\n",
      " 63  F62         101500 non-null  int64  \n",
      " 64  F63         101500 non-null  int64  \n",
      " 65  F64         101500 non-null  int64  \n",
      " 66  F65         101500 non-null  int64  \n",
      " 67  F66         101500 non-null  int64  \n",
      " 68  F67         101500 non-null  int64  \n",
      " 69  F68         101500 non-null  int64  \n",
      " 70  F69         101500 non-null  int64  \n",
      " 71  F70         101500 non-null  int64  \n",
      " 72  F71         101500 non-null  int64  \n",
      " 73  F72         101500 non-null  int64  \n",
      " 74  F73         101500 non-null  int64  \n",
      " 75  F74         101500 non-null  int64  \n",
      " 76  F75         101500 non-null  int64  \n",
      " 77  F76         101500 non-null  int64  \n",
      " 78  F77         101500 non-null  float64\n",
      " 79  F78         101500 non-null  float64\n",
      " 80  F79         101500 non-null  float64\n",
      " 81  F80         101500 non-null  float64\n",
      " 82  F81         101500 non-null  float64\n",
      " 83  F82         101500 non-null  float64\n",
      " 84  F83         101500 non-null  float64\n",
      " 85  F84         101500 non-null  float64\n",
      " 86  F85         101500 non-null  object \n",
      " 87  F86         101500 non-null  int64  \n",
      "dtypes: float64(45), int64(38), object(5)\n",
      "memory usage: 68.1+ MB\n"
     ]
    }
   ],
   "source": [
    "#getting info about testing data\n",
    "df_test.info()"
   ]
  },
  {
   "cell_type": "code",
   "execution_count": 7,
   "metadata": {
    "id": "JCdVe-tLeqOc"
   },
   "outputs": [],
   "source": [
    "#drop some coulm in training data and testing data\n",
    "df_train=df_train.drop(['Unnamed: 0','F1','F2','F4','F7','F85'], axis=1)\n",
    "df_test=df_test.drop(['Unnamed: 0','F1','F2','F4','F7','F85'], axis=1)"
   ]
  },
  {
   "cell_type": "code",
   "execution_count": 8,
   "metadata": {},
   "outputs": [],
   "source": [
    "#remove nan and inf from training and testing data\n",
    "df_train.replace([np.inf, -np.inf], np.nan, inplace=True)\n",
    "df_train.fillna(df_train.mean(), inplace=True)\n",
    "df_test.replace([np.inf, -np.inf], np.nan, inplace=True)\n",
    "df_test.fillna(df_test.mean(), inplace=True)"
   ]
  },
  {
   "cell_type": "code",
   "execution_count": 9,
   "metadata": {
    "id": "avSeP42patjs"
   },
   "outputs": [],
   "source": [
    "#split training data to features and label\n",
    "x=df_train.iloc[:,0:83]\n",
    "y=df_train.iloc[:,83]"
   ]
  },
  {
   "cell_type": "code",
   "execution_count": 10,
   "metadata": {},
   "outputs": [
    {
     "data": {
      "text/plain": [
       "0    125164\n",
       "1     11247\n",
       "Name: Label, dtype: int64"
      ]
     },
     "execution_count": 10,
     "metadata": {},
     "output_type": "execute_result"
    }
   ],
   "source": [
    "#count lable in training data\n",
    "df_train['Label'].value_counts()"
   ]
  },
  {
   "cell_type": "code",
   "execution_count": 11,
   "metadata": {},
   "outputs": [
    {
     "data": {
      "image/png": "[encoded data removed]",
      "text/plain": [
       "<Figure size 432x288 with 1 Axes>"
      ]
     },
     "metadata": {
      "needs_background": "light"
     },
     "output_type": "display_data"
    }
   ],
   "source": [
    "#plot count label in training data\n",
    "x_1 = np.arange(2)\n",
    "plt.bar(x_1, df_train['Label'].value_counts(),color='b')\n",
    "plt.xticks(x_1,[0,1])\n",
    "plt.xlabel(\"label\")\n",
    "plt.ylabel(\"distribution\")\n",
    "plt.title('data distribution')\n",
    "plt.legend([\"label\"],bbox_to_anchor =(0.75, 1.2))\n",
    "plt.show()"
   ]
  },
  {
   "cell_type": "code",
   "execution_count": 12,
   "metadata": {
    "id": "uh9rE8oXbQfd"
   },
   "outputs": [],
   "source": [
    "#split training data to train and test data\n",
    "x_train,x_test,y_train,y_test = train_test_split(x,y, test_size=0.2,random_state=0)"
   ]
  },
  {
   "cell_type": "markdown",
   "metadata": {},
   "source": [
    "# model 1"
   ]
  },
  {
   "cell_type": "code",
   "execution_count": 87,
   "metadata": {
    "colab": {
     "base_uri": "https://localhost:8080/"
    },
    "id": "Ql1D4J8VdDTe",
    "outputId": "bd0e3e09-b980-4827-fd92-c7715acb9c07"
   },
   "outputs": [
    {
     "name": "stdout",
     "output_type": "stream",
     "text": [
      "0.9997785160575858\n",
      "0.9999633471392442\n"
     ]
    }
   ],
   "source": [
    "#apply randomforest\n",
    "from sklearn.ensemble import RandomForestClassifier\n",
    "clf=RandomForestClassifier(n_estimators=400,n_jobs=-1)\n",
    "clf.fit(x_train,y_train)\n",
    "y_pred=clf.predict(x_test)\n",
    "print(f1_score(y_test, y_pred))\n",
    "print(accuracy_score(y_test, y_pred))"
   ]
  },
  {
   "cell_type": "code",
   "execution_count": 88,
   "metadata": {},
   "outputs": [],
   "source": [
    "#fitting random forest on the all training data\n",
    "clf.fit(x,y)\n",
    "y_pred_test=clf.predict(df_test)"
   ]
  },
  {
   "cell_type": "code",
   "execution_count": null,
   "metadata": {},
   "outputs": [],
   "source": [
    "#save the prediction in csv file\n",
    "pre={'ID': range(0,len(y_pred_test)),'Class':y_pred_test}\n",
    "df_pre = pd.DataFrame(pre)\n",
    "df_pre.to_csv('D:/studies/depi/ottawa/second term/ai for cs/ass/pred.csv', index=False)"
   ]
  },
  {
   "cell_type": "markdown",
   "metadata": {},
   "source": [
    "# model 2"
   ]
  },
  {
   "cell_type": "code",
   "execution_count": 89,
   "metadata": {},
   "outputs": [
    {
     "name": "stdout",
     "output_type": "stream",
     "text": [
      "0.9986719787516601\n",
      "0.9997800828354653\n"
     ]
    }
   ],
   "source": [
    "#applying GradientBoostingClassifier\n",
    "from sklearn.ensemble import GradientBoostingClassifier\n",
    "clf_g = GradientBoostingClassifier(n_estimators=100,learning_rate=0.01,random_state=0)\n",
    "clf_g.fit(x_train, y_train)\n",
    "y_pred_g=clf_g.predict(x_test)\n",
    "print(f1_score(y_test, y_pred_g))\n",
    "print(accuracy_score(y_test, y_pred_g))"
   ]
  },
  {
   "cell_type": "code",
   "execution_count": 90,
   "metadata": {},
   "outputs": [],
   "source": [
    "#fitting GradientBoostingClassifier\n",
    "clf_g.fit(x,y)\n",
    "y_pred_test_g=clf_g.predict(df_test)"
   ]
  },
  {
   "cell_type": "code",
   "execution_count": 15,
   "metadata": {
    "id": "69FLWVgMyAY6"
   },
   "outputs": [],
   "source": [
    "#save the prediction in csv file\n",
    "pre_g={'ID': range(0,len(y_pred_test_g)),'Class':y_pred_test_g}\n",
    "df_pre = pd.DataFrame(pre_g)\n",
    "df_pre.to_csv('D:/studies/depi/ottawa/second term/ai for cs/ass/pred_g_.csv', index=False)"
   ]
  },
  {
   "cell_type": "markdown",
   "metadata": {},
   "source": [
    "# model 3"
   ]
  },
  {
   "cell_type": "code",
   "execution_count": 18,
   "metadata": {},
   "outputs": [
    {
     "name": "stdout",
     "output_type": "stream",
     "text": [
      "Collecting catboost\n",
      "  Downloading catboost-1.0.4-cp38-none-win_amd64.whl (73.5 MB)\n",
      "Requirement already satisfied: pandas>=0.24.0 in c:\\users\\abdo\\anaconda3\\lib\\site-packages (from catboost) (1.0.5)\n",
      "Requirement already satisfied: matplotlib in c:\\users\\abdo\\anaconda3\\lib\\site-packages (from catboost) (3.5.1)\n",
      "Requirement already satisfied: numpy>=1.16.0 in c:\\users\\abdo\\anaconda3\\lib\\site-packages (from catboost) (1.19.4)\n",
      "Requirement already satisfied: scipy in c:\\users\\abdo\\anaconda3\\lib\\site-packages (from catboost) (1.5.0)\n",
      "Collecting graphviz\n",
      "  Downloading graphviz-0.19.1-py3-none-any.whl (46 kB)\n",
      "Requirement already satisfied: six in c:\\users\\abdo\\anaconda3\\lib\\site-packages (from catboost) (1.15.0)\n",
      "Requirement already satisfied: plotly in c:\\users\\abdo\\anaconda3\\lib\\site-packages (from catboost) (5.3.1)\n",
      "Requirement already satisfied: pytz>=2017.2 in c:\\users\\abdo\\anaconda3\\lib\\site-packages (from pandas>=0.24.0->catboost) (2020.1)\n",
      "Requirement already satisfied: python-dateutil>=2.6.1 in c:\\users\\abdo\\anaconda3\\lib\\site-packages (from pandas>=0.24.0->catboost) (2.8.1)\n",
      "Requirement already satisfied: packaging>=20.0 in c:\\users\\abdo\\anaconda3\\lib\\site-packages (from matplotlib->catboost) (20.4)\n",
      "Requirement already satisfied: pillow>=6.2.0 in c:\\users\\abdo\\anaconda3\\lib\\site-packages (from matplotlib->catboost) (7.2.0)\n",
      "Requirement already satisfied: pyparsing>=2.2.1 in c:\\users\\abdo\\anaconda3\\lib\\site-packages (from matplotlib->catboost) (2.4.7)\n",
      "Requirement already satisfied: cycler>=0.10 in c:\\users\\abdo\\anaconda3\\lib\\site-packages (from matplotlib->catboost) (0.10.0)\n",
      "Requirement already satisfied: kiwisolver>=1.0.1 in c:\\users\\abdo\\anaconda3\\lib\\site-packages (from matplotlib->catboost) (1.2.0)\n",
      "Requirement already satisfied: fonttools>=4.22.0 in c:\\users\\abdo\\anaconda3\\lib\\site-packages (from matplotlib->catboost) (4.28.5)\n",
      "Requirement already satisfied: tenacity>=6.2.0 in c:\\users\\abdo\\anaconda3\\lib\\site-packages (from plotly->catboost) (8.0.1)\n",
      "Installing collected packages: graphviz, catboost\n",
      "Successfully installed catboost-1.0.4 graphviz-0.19.1\n"
     ]
    }
   ],
   "source": [
    "#install catboost\n",
    "#!pip install catboost"
   ]
  },
  {
   "cell_type": "code",
   "execution_count": 14,
   "metadata": {},
   "outputs": [
    {
     "name": "stdout",
     "output_type": "stream",
     "text": [
      "1.0.4\n"
     ]
    }
   ],
   "source": [
    "#check install catboost \n",
    "import catboost\n",
    "from catboost import CatBoostClassifier\n",
    "print(catboost.__version__)"
   ]
  },
  {
   "cell_type": "code",
   "execution_count": 92,
   "metadata": {},
   "outputs": [
    {
     "name": "stdout",
     "output_type": "stream",
     "text": [
      "0.9995573262505534\n",
      "0.9999266942784885\n"
     ]
    }
   ],
   "source": [
    "#applying CatBoostClassifier\n",
    "clf_c = CatBoostClassifier(iterations=1000,verbose=0,learning_rate=0.01,random_state=0)\n",
    "clf_c.fit(x_train, y_train)\n",
    "y_pred_c=clf_c.predict(x_test)\n",
    "print(f1_score(y_test, y_pred_c))\n",
    "print(accuracy_score(y_test, y_pred_c))"
   ]
  },
  {
   "cell_type": "code",
   "execution_count": 93,
   "metadata": {},
   "outputs": [
    {
     "name": "stdout",
     "output_type": "stream",
     "text": [
      "0.9999908364489407\n",
      "0.9999443795539241\n"
     ]
    }
   ],
   "source": [
    "#accuracy in training\n",
    "y_pred_c1=clf_c.predict(x_train)\n",
    "print(accuracy_score(y_train, y_pred_c1))\n",
    "print(f1_score(y_train, y_pred_c1))"
   ]
  },
  {
   "cell_type": "code",
   "execution_count": 94,
   "metadata": {},
   "outputs": [],
   "source": [
    "#fitting CatBoostClassifier\n",
    "clf_c.fit(x,y)\n",
    "y_pred_test_c=clf_c.predict(df_test)"
   ]
  },
  {
   "cell_type": "code",
   "execution_count": 99,
   "metadata": {},
   "outputs": [],
   "source": [
    "#save the prediction in csv file\n",
    "pre_c={'ID': range(0,len(y_pred_test_c)),'Class':y_pred_test_c}\n",
    "df_pre = pd.DataFrame(pre_c)\n",
    "df_pre.to_csv('D:/studies/depi/ottawa/second term/ai for cs/ass/pred_cc.csv', index=False)"
   ]
  },
  {
   "cell_type": "markdown",
   "metadata": {},
   "source": [
    "# model 3 improving parameter in CatBoostClassifier"
   ]
  },
  {
   "cell_type": "code",
   "execution_count": 19,
   "metadata": {},
   "outputs": [
    {
     "name": "stdout",
     "output_type": "stream",
     "text": [
      "1.0\n",
      "1.0\n"
     ]
    }
   ],
   "source": [
    "clf_c_i = CatBoostClassifier(iterations=500,verbose=0,learning_rate=0.05,random_state=0)\n",
    "clf_c_i.fit(x_train, y_train)\n",
    "y_pred_c_i=clf_c_i.predict(x_test)\n",
    "print(f1_score(y_test, y_pred_c_i))\n",
    "print(accuracy_score(y_test, y_pred_c_i))"
   ]
  },
  {
   "cell_type": "code",
   "execution_count": 20,
   "metadata": {},
   "outputs": [],
   "source": [
    "clf_c_i.fit(x,y)\n",
    "y_pred_test_c_i=clf_c_i.predict(df_test)"
   ]
  },
  {
   "cell_type": "code",
   "execution_count": 18,
   "metadata": {},
   "outputs": [],
   "source": [
    "pre_c_i={'ID': range(0,len(y_pred_test_c_i)),'Class':y_pred_test_c_i}\n",
    "df_pre_i = pd.DataFrame(pre_c_i)\n",
    "df_pre_i.to_csv('D:/studies/depi/ottawa/second term/ai for cs/ass/pred_cccc.csv', index=False)"
   ]
  },
  {
   "cell_type": "markdown",
   "metadata": {},
   "source": [
    "# note"
   ]
  },
  {
   "cell_type": "markdown",
   "metadata": {},
   "source": [
    "iterations and learning_rate have an effect on the CatBoostClassifier"
   ]
  },
  {
   "cell_type": "markdown",
   "metadata": {},
   "source": [
    "# model 4"
   ]
  },
  {
   "cell_type": "code",
   "execution_count": 95,
   "metadata": {},
   "outputs": [
    {
     "name": "stdout",
     "output_type": "stream",
     "text": [
      "0.9995573262505534\n",
      "0.9999266942784885\n"
     ]
    }
   ],
   "source": [
    "#applying VotingClassifier\n",
    "from sklearn.ensemble import VotingClassifier\n",
    "clf_v = VotingClassifier(estimators=[('random', clf), ('gra', clf_g), ('cat', clf_c)],voting='hard')\n",
    "clf_v.fit(x_train, y_train)\n",
    "y_pred_v=clf_v.predict(x_test)\n",
    "print(f1_score(y_test, y_pred_v))\n",
    "print(accuracy_score(y_test, y_pred_v))"
   ]
  },
  {
   "cell_type": "code",
   "execution_count": 96,
   "metadata": {},
   "outputs": [],
   "source": [
    "#fitting VotingClassifier \n",
    "clf_v.fit(x,y)\n",
    "y_pred_test_v=clf_v.predict(df_test)"
   ]
  },
  {
   "cell_type": "code",
   "execution_count": 27,
   "metadata": {},
   "outputs": [],
   "source": [
    "#save the prediction in csv file\n",
    "pre_v={'ID': range(0,len(y_pred_test_v)),'Class':y_pred_test_v}\n",
    "df_pre = pd.DataFrame(pre_v)\n",
    "df_pre.to_csv('D:/studies/depi/ottawa/second term/ai for cs/ass/pred_v.csv', index=False)"
   ]
  },
  {
   "cell_type": "markdown",
   "metadata": {},
   "source": [
    "# model 5"
   ]
  },
  {
   "cell_type": "code",
   "execution_count": 28,
   "metadata": {},
   "outputs": [
    {
     "name": "stdout",
     "output_type": "stream",
     "text": [
      "Collecting xgboost\n",
      "  Downloading xgboost-1.5.2-py3-none-win_amd64.whl (106.6 MB)\n",
      "Requirement already satisfied: numpy in c:\\users\\abdo\\anaconda3\\lib\\site-packages (from xgboost) (1.19.4)\n",
      "Requirement already satisfied: scipy in c:\\users\\abdo\\anaconda3\\lib\\site-packages (from xgboost) (1.5.0)\n",
      "Installing collected packages: xgboost\n",
      "Successfully installed xgboost-1.5.2\n"
     ]
    }
   ],
   "source": [
    "#install xgboost\n",
    "#!pip install xgboost"
   ]
  },
  {
   "cell_type": "code",
   "execution_count": 97,
   "metadata": {},
   "outputs": [
    {
     "name": "stderr",
     "output_type": "stream",
     "text": [
      "C:\\Users\\abdo\\anaconda3\\lib\\site-packages\\xgboost\\sklearn.py:1224: UserWarning: The use of label encoder in XGBClassifier is deprecated and will be removed in a future release. To remove this warning, do the following: 1) Pass option use_label_encoder=False when constructing XGBClassifier object; and 2) Encode your labels (y) as integers starting with 0, i.e. 0, 1, 2, ..., [num_class - 1].\n",
      "  warnings.warn(label_encoder_deprecation_msg, UserWarning)\n"
     ]
    },
    {
     "name": "stdout",
     "output_type": "stream",
     "text": [
      "[18:24:13] WARNING: C:/Users/Administrator/workspace/xgboost-win64_release_1.5.1/src/learner.cc:1115: Starting in XGBoost 1.3.0, the default evaluation metric used with the objective 'binary:logistic' was changed from 'error' to 'logloss'. Explicitly set eval_metric if you'd like to restore the old behavior.\n",
      "0.9995571302037201\n",
      "0.9999266942784885\n"
     ]
    }
   ],
   "source": [
    "#applying XGBClassifier\n",
    "from xgboost import XGBClassifier\n",
    "clf_x=XGBClassifier(objective ='binary:logistic',n_jobs=-1,n_estimators=600,learning_rate=0.02)\n",
    "clf_x.fit(x_train, y_train)\n",
    "y_pred_x=clf_x.predict(x_test)\n",
    "print(f1_score(y_test, y_pred_x))\n",
    "print(accuracy_score(y_test, y_pred_x))"
   ]
  },
  {
   "cell_type": "code",
   "execution_count": 98,
   "metadata": {},
   "outputs": [
    {
     "name": "stdout",
     "output_type": "stream",
     "text": [
      "[18:26:49] WARNING: C:/Users/Administrator/workspace/xgboost-win64_release_1.5.1/src/learner.cc:1115: Starting in XGBoost 1.3.0, the default evaluation metric used with the objective 'binary:logistic' was changed from 'error' to 'logloss'. Explicitly set eval_metric if you'd like to restore the old behavior.\n"
     ]
    }
   ],
   "source": [
    "#fitting XGBClassifier\n",
    "clf_x.fit(x,y)\n",
    "y_pred_test_x=clf_x.predict(df_test)"
   ]
  },
  {
   "cell_type": "code",
   "execution_count": 37,
   "metadata": {},
   "outputs": [],
   "source": [
    "#save the prediction in csv file\n",
    "pre_x={'ID': range(0,len(y_pred_test_x)),'Class':y_pred_test_x}\n",
    "df_pre = pd.DataFrame(pre_x)\n",
    "df_pre.to_csv('D:/studies/depi/ottawa/second term/ai for cs/ass/pred_x_.csv', index=False)"
   ]
  },
  {
   "cell_type": "markdown",
   "metadata": {},
   "source": [
    "# model 6"
   ]
  },
  {
   "cell_type": "markdown",
   "metadata": {},
   "source": [
    "I try decrease number of the feature. There are four ways such as feature selection, dimensionality Reduction,  correlation matrix and use decescion tree to obtain important feature. I choice using decescion tree to obtain important feature.I obtian 18 features is very important"
   ]
  },
  {
   "cell_type": "code",
   "execution_count": 81,
   "metadata": {},
   "outputs": [],
   "source": [
    "# apply decision tree\n",
    "clf_d = DecisionTreeClassifier(criterion=\"entropy\",random_state=0)\n",
    "clf_d.fit(x_train,y_train)\n",
    "important_feature = clf_d.feature_importances_"
   ]
  },
  {
   "cell_type": "code",
   "execution_count": 82,
   "metadata": {},
   "outputs": [
    {
     "data": {
      "text/plain": [
       "array([7.95435486e-01, 4.35479135e-04, 2.05540105e-02, 1.61409367e-03,\n",
       "       0.00000000e+00, 0.00000000e+00, 0.00000000e+00, 0.00000000e+00,\n",
       "       0.00000000e+00, 0.00000000e+00, 0.00000000e+00, 3.11915195e-04,\n",
       "       0.00000000e+00, 0.00000000e+00, 0.00000000e+00, 4.52447111e-02,\n",
       "       0.00000000e+00, 0.00000000e+00, 0.00000000e+00, 0.00000000e+00,\n",
       "       0.00000000e+00, 2.12837765e-04, 0.00000000e+00, 1.87741085e-04,\n",
       "       0.00000000e+00, 8.06819335e-05, 2.19346991e-03, 1.10994579e-04,\n",
       "       0.00000000e+00, 0.00000000e+00, 0.00000000e+00, 0.00000000e+00,\n",
       "       2.09657840e-04, 0.00000000e+00, 0.00000000e+00, 0.00000000e+00,\n",
       "       0.00000000e+00, 0.00000000e+00, 0.00000000e+00, 0.00000000e+00,\n",
       "       0.00000000e+00, 4.95288493e-03, 0.00000000e+00, 0.00000000e+00,\n",
       "       0.00000000e+00, 0.00000000e+00, 0.00000000e+00, 0.00000000e+00,\n",
       "       0.00000000e+00, 0.00000000e+00, 0.00000000e+00, 0.00000000e+00,\n",
       "       0.00000000e+00, 0.00000000e+00, 0.00000000e+00, 0.00000000e+00,\n",
       "       0.00000000e+00, 0.00000000e+00, 0.00000000e+00, 0.00000000e+00,\n",
       "       0.00000000e+00, 0.00000000e+00, 0.00000000e+00, 0.00000000e+00,\n",
       "       0.00000000e+00, 0.00000000e+00, 0.00000000e+00, 0.00000000e+00,\n",
       "       0.00000000e+00, 0.00000000e+00, 4.05913019e-04, 2.15496497e-02,\n",
       "       0.00000000e+00, 7.96808399e-02, 0.00000000e+00, 0.00000000e+00,\n",
       "       0.00000000e+00, 0.00000000e+00, 0.00000000e+00, 6.99622049e-04,\n",
       "       0.00000000e+00, 0.00000000e+00, 2.61200120e-02])"
      ]
     },
     "execution_count": 82,
     "metadata": {},
     "output_type": "execute_result"
    }
   ],
   "source": [
    "#show important feature\n",
    "important_feature"
   ]
  },
  {
   "cell_type": "code",
   "execution_count": 83,
   "metadata": {},
   "outputs": [
    {
     "data": {
      "text/plain": [
       "array([ 0, 73, 15, 82, 71,  2, 41, 26,  3, 79,  1, 70, 11, 21, 32, 23, 27,\n",
       "       25, 33, 20, 30, 29, 34, 28, 35, 24, 22, 31, 16, 19, 18, 17, 37, 80,\n",
       "       14, 13, 12, 10,  9,  8,  7,  6,  5,  4, 36, 78, 38, 57, 59, 60, 61,\n",
       "       62, 63, 64, 65, 66, 67, 68, 69, 72, 74, 75, 76, 58, 56, 77, 55, 40,\n",
       "       81, 42, 43, 44, 45, 46, 47, 48, 49, 50, 51, 52, 53, 54, 39],\n",
       "      dtype=int64)"
      ]
     },
     "execution_count": 83,
     "metadata": {},
     "output_type": "execute_result"
    }
   ],
   "source": [
    "#obtain index of the important_feature with order\n",
    "sorted_importance_feature = np.argsort(important_feature)[::-1]\n",
    "sorted_importance_feature"
   ]
  },
  {
   "cell_type": "code",
   "execution_count": 86,
   "metadata": {},
   "outputs": [],
   "source": [
    "impotrant_index = sorted_importance_feature[:18]"
   ]
  },
  {
   "cell_type": "code",
   "execution_count": 87,
   "metadata": {},
   "outputs": [
    {
     "data": {
      "text/plain": [
       "array([ 0, 73, 15, 82, 71,  2, 41, 26,  3, 79,  1, 70, 11, 21, 32, 23, 27,\n",
       "       25], dtype=int64)"
      ]
     },
     "execution_count": 87,
     "metadata": {},
     "output_type": "execute_result"
    }
   ],
   "source": [
    "impotrant_index"
   ]
  },
  {
   "cell_type": "code",
   "execution_count": 88,
   "metadata": {},
   "outputs": [
    {
     "data": {
      "text/plain": [
       "8.068193346874548e-05"
      ]
     },
     "execution_count": 88,
     "metadata": {},
     "output_type": "execute_result"
    }
   ],
   "source": [
    "important_feature[25]"
   ]
  },
  {
   "cell_type": "code",
   "execution_count": 90,
   "metadata": {},
   "outputs": [
    {
     "name": "stdout",
     "output_type": "stream",
     "text": [
      "(109128, 18)\n",
      "(27283, 18)\n",
      "(101500, 18)\n",
      "(136411, 18)\n"
     ]
    }
   ],
   "source": [
    "#delet not importance feature in traing and testing \n",
    "#show the new shape \n",
    "x___train=x_train.iloc[:,impotrant_index]\n",
    "x___test=x_test.iloc[:,impotrant_index]\n",
    "df__test=df_test.iloc[:,impotrant_index]\n",
    "x___=x.iloc[:,impotrant_index]\n",
    "print(x___train.shape)\n",
    "print(x___test.shape)\n",
    "print(df__test.shape)\n",
    "print(x___.shape)"
   ]
  },
  {
   "cell_type": "code",
   "execution_count": 120,
   "metadata": {},
   "outputs": [
    {
     "name": "stdout",
     "output_type": "stream",
     "text": [
      "0.9988998899889989\n",
      "0.9998167356962211\n"
     ]
    }
   ],
   "source": [
    "#apply CatBoostClassifier\n",
    "clf_c_im = CatBoostClassifier(iterations=1500,verbose=0,learning_rate=0.01,random_state=0)\n",
    "clf_c_im.fit(x___train, y_train)\n",
    "y_pred_c_im=clf_c_im.predict(x___test)\n",
    "print(f1_score(y_test, y_pred_c_im))\n",
    "print(accuracy_score(y_test, y_pred_c_im))"
   ]
  },
  {
   "cell_type": "code",
   "execution_count": 121,
   "metadata": {},
   "outputs": [],
   "source": [
    "#fit model on the training data\n",
    "clf_c_im.fit(x___,y)\n",
    "y_pred_test_c_im=clf_c_im.predict(df__test)"
   ]
  },
  {
   "cell_type": "code",
   "execution_count": 119,
   "metadata": {},
   "outputs": [],
   "source": [
    "#save file\n",
    "pre_c={'ID': range(0,len(y_pred_test_c_im)),'Class':y_pred_test_c_im}\n",
    "df_pre = pd.DataFrame(pre_c)\n",
    "df_pre.to_csv('D:/studies/depi/ottawa/second term/ai for cs/ass/pred_cccccc.csv', index=False)"
   ]
  },
  {
   "cell_type": "code",
   "execution_count": null,
   "metadata": {},
   "outputs": [],
   "source": []
  }
 ],
 "metadata": {
  "colab": {
   "name": "ai for cs.ipynb",
   "provenance": []
  },
  "kernelspec": {
   "display_name": "Python 3",
   "language": "python",
   "name": "python3"
  },
  "language_info": {
   "codemirror_mode": {
    "name": "ipython",
    "version": 3
   },
   "file_extension": ".py",
   "mimetype": "text/x-python",
   "name": "python",
   "nbconvert_exporter": "python",
   "pygments_lexer": "ipython3",
   "version": "3.8.3"
  }
 },
 "nbformat": 4,
 "nbformat_minor": 1
}
